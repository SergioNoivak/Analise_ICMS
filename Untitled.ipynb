{
 "cells": [
  {
   "cell_type": "code",
   "execution_count": 96,
   "id": "ded6cac8",
   "metadata": {},
   "outputs": [
    {
     "data": {
      "text/plain": [
       "<Figure size 1080x576 with 0 Axes>"
      ]
     },
     "metadata": {},
     "output_type": "display_data"
    }
   ],
   "source": [
    "%matplotlib inline\n",
    "import pandas as pd\n",
    "import matplotlib.pyplot as plt\n",
    "plt.rc('figure',figsize =(15,8))\n",
    "import numpy as np\n",
    "area = plt.figure()\n"
   ]
  },
  {
   "cell_type": "code",
   "execution_count": 315,
   "id": "ca5fcf6b",
   "metadata": {},
   "outputs": [
    {
     "data": {
      "text/html": [
       "<div>\n",
       "<style scoped>\n",
       "    .dataframe tbody tr th:only-of-type {\n",
       "        vertical-align: middle;\n",
       "    }\n",
       "\n",
       "    .dataframe tbody tr th {\n",
       "        vertical-align: top;\n",
       "    }\n",
       "\n",
       "    .dataframe thead th {\n",
       "        text-align: right;\n",
       "    }\n",
       "</style>\n",
       "<table border=\"1\" class=\"dataframe\">\n",
       "  <thead>\n",
       "    <tr style=\"text-align: right;\">\n",
       "      <th></th>\n",
       "      <th>2018</th>\n",
       "      <th>2019</th>\n",
       "      <th>2020</th>\n",
       "      <th>2021</th>\n",
       "    </tr>\n",
       "  </thead>\n",
       "  <tbody>\n",
       "    <tr>\n",
       "      <th>1</th>\n",
       "      <td>1.323784e+11</td>\n",
       "      <td>1.475532e+11</td>\n",
       "      <td>1.566096e+11</td>\n",
       "      <td>1.947603e+11</td>\n",
       "    </tr>\n",
       "    <tr>\n",
       "      <th>2</th>\n",
       "      <td>1.209660e+11</td>\n",
       "      <td>1.330605e+11</td>\n",
       "      <td>1.392157e+11</td>\n",
       "      <td>1.827452e+11</td>\n",
       "    </tr>\n",
       "    <tr>\n",
       "      <th>3</th>\n",
       "      <td>1.155060e+11</td>\n",
       "      <td>1.313744e+11</td>\n",
       "      <td>1.363464e+11</td>\n",
       "      <td>1.847491e+11</td>\n",
       "    </tr>\n",
       "    <tr>\n",
       "      <th>4</th>\n",
       "      <td>1.281494e+11</td>\n",
       "      <td>1.335268e+11</td>\n",
       "      <td>1.189553e+11</td>\n",
       "      <td>1.951373e+11</td>\n",
       "    </tr>\n",
       "    <tr>\n",
       "      <th>5</th>\n",
       "      <td>1.260556e+11</td>\n",
       "      <td>1.416009e+11</td>\n",
       "      <td>1.165736e+11</td>\n",
       "      <td>1.895360e+11</td>\n",
       "    </tr>\n",
       "    <tr>\n",
       "      <th>6</th>\n",
       "      <td>1.250817e+11</td>\n",
       "      <td>1.389454e+11</td>\n",
       "      <td>1.411806e+11</td>\n",
       "      <td>1.914153e+11</td>\n",
       "    </tr>\n",
       "    <tr>\n",
       "      <th>7</th>\n",
       "      <td>1.363540e+11</td>\n",
       "      <td>1.449922e+11</td>\n",
       "      <td>1.462863e+11</td>\n",
       "      <td>2.121121e+11</td>\n",
       "    </tr>\n",
       "    <tr>\n",
       "      <th>8</th>\n",
       "      <td>1.328233e+11</td>\n",
       "      <td>1.414920e+11</td>\n",
       "      <td>1.604634e+11</td>\n",
       "      <td>2.161855e+11</td>\n",
       "    </tr>\n",
       "    <tr>\n",
       "      <th>9</th>\n",
       "      <td>1.332249e+11</td>\n",
       "      <td>1.460787e+11</td>\n",
       "      <td>1.652172e+11</td>\n",
       "      <td>2.148716e+11</td>\n",
       "    </tr>\n",
       "  </tbody>\n",
       "</table>\n",
       "</div>"
      ],
      "text/plain": [
       "           2018          2019          2020          2021\n",
       "1  1.323784e+11  1.475532e+11  1.566096e+11  1.947603e+11\n",
       "2  1.209660e+11  1.330605e+11  1.392157e+11  1.827452e+11\n",
       "3  1.155060e+11  1.313744e+11  1.363464e+11  1.847491e+11\n",
       "4  1.281494e+11  1.335268e+11  1.189553e+11  1.951373e+11\n",
       "5  1.260556e+11  1.416009e+11  1.165736e+11  1.895360e+11\n",
       "6  1.250817e+11  1.389454e+11  1.411806e+11  1.914153e+11\n",
       "7  1.363540e+11  1.449922e+11  1.462863e+11  2.121121e+11\n",
       "8  1.328233e+11  1.414920e+11  1.604634e+11  2.161855e+11\n",
       "9  1.332249e+11  1.460787e+11  1.652172e+11  2.148716e+11"
      ]
     },
     "execution_count": 315,
     "metadata": {},
     "output_type": "execute_result"
    }
   ],
   "source": [
    "arquivos_para_abrir = [\n",
    "\"ARR_201801.csv\",\n",
    "\"ARR_201802.csv\",\n",
    "\"ARR_201803.csv\",\n",
    "\"ARR_201804.csv\",\n",
    "\"ARR_201805.csv\",\n",
    "\"ARR_201806.csv\",\n",
    "\"ARR_201807.csv\",\n",
    "\"ARR_201808.csv\",\n",
    "\"ARR_201809.csv\",\n",
    "\n",
    "\"ARR_201901.csv\",\n",
    "\"ARR_201902.csv\",\n",
    "\"ARR_201903.csv\",\n",
    "\"ARR_201904.csv\",\n",
    "\"ARR_201905.csv\",\n",
    "\"ARR_201906.csv\",\n",
    "\"ARR_201907.csv\",\n",
    "\"ARR_201908.csv\",\n",
    "\"ARR_201909.csv\",\n",
    "\n",
    "\n",
    "\"ARR_202001.csv\",\n",
    "\"ARR_202002.csv\",\n",
    "\"ARR_202003.csv\",\n",
    "\"ARR_202004.csv\",\n",
    "\"ARR_202005.csv\",\n",
    "\"ARR_202006.csv\",\n",
    "\"ARR_202007.csv\",\n",
    "\"ARR_202008.csv\",\n",
    "\"ARR_202009.csv\",\n",
    "\n",
    "\n",
    "\"ARR_202101.csv\",\n",
    "\"ARR_202102.csv\",\n",
    "\"ARR_202103.csv\",\n",
    "\"ARR_202104.csv\",\n",
    "\"ARR_202105.csv\",\n",
    "\"ARR_202106.csv\",\n",
    "\"ARR_202107.csv\",\n",
    "\"ARR_202108.csv\",\n",
    "\"ARR_202109.csv\"\n",
    "\n",
    "]\n",
    "\n",
    "lista_icms ={}\n",
    "lista_meses = {}\n",
    "icms = []\n",
    "columns = []\n",
    "anos = []\n",
    "cotacao_dollar = {\n",
    "    \"2021\":[5.4753,\t5.5296,\t5.6967,\t5.4030,\t5.2316,\t5.0016,\t5.1210,\t5.1427,\t5.4388 ,5.6424],\n",
    "    \"2020\":[4.2689\t,4.4981\t,5.1981\t,5.4264\t,5.4257\t,5.4754\t,5.2027\t,5.4707\t,5.6401\t,5.7712\t,5.3311\t,5.1961],\n",
    "    \"2008\":[1.7450,\t1.7541,\t1.6947,\t1.6822,\t1.6601,\t1.6368,\t1.5910,\t1.6389,\t1.8125,\t2.1551,\t2.2800,\t2.3690],\n",
    "    \"2009\":[2.3803,\t2.2680,\t2.3012,\t2.1992,\t2.0762,\t1.9458,\t1.9420,\t1.8385,\t1.8087,\t1.7037,\t1.7290,\t1.7557],\n",
    "    \"2010\":[1.7711,\t1.8670,\t1.7644,\t1.7483,\t1.7967,\t1.7971,\t1.7690,\t1.7716,\t1.7169,\t1.6604,\t1.7198,\t1.6988],\n",
    "    \"2011\":[1.6843,\t1.6682,\t1.6692,\t1.5776,\t1.6328,\t1.5960,\t1.5743,\t1.5956,\t1.7106,\t1.7376,\t1.7649,\t1.8609],\n",
    "    \"2012\":[1.7853,\t1.7158,\t1.8006,\t1.8364,\t1.9941,\t2.0443,\t2.0332,\t2.0338,\t2.0234,\t2.0139,\t2.0382,\t2.0840],\n",
    "    \"2013\":[2.0374,\t1.9600,\t1.9749,\t1.9790,\t2.0233,\t2.1367,\t2.2548,\t2.3434,\t2.2785,\t2.1818,\t2.3289,\t2.3354],\n",
    "    \"2014\":[2.3470,\t2.3924,\t2.3638,\t2.2257,\t2.2166,\t2.2347,\t2.2195,\t2.2690,\t2.3401,\t2.4316,\t2.6136,\t2.6717],\n",
    "    \"2015\":[2.6122,\t2.8392,\t3.2264,\t3.0681,\t2.9884,\t3.1036,\t3.1532,\t3.4761,\t3.8599,\t3.8344,\t3.8023,\t3.8703],\n",
    "    \"2016\":[3.8711,\t3.9885,\t3.7116,\t3.5276,\t3.5041,\t3.4768,\t3.2656,\t3.1672,\t3.3326,\t3.1864,\t3.4446,\t3.3830],\n",
    "    \"2017\":[3.2034,\t3.0779,\t3.1629,\t3.1269,\t3.1011,\t3.2836,\t3.1899,\t3.1976,\t3.1255,\t3.1572,\t3.2802,\t3.3176],\n",
    "    \"2018\":[3.1963,\t3.2208,\t3.2859,\t3.4105,\t3.6753,\t3.7738,\t3.8745,\t3.9134,\t4.1879,\t3.7332,\t3.7924,\t3.9090],\n",
    "    \"2019\":[3.6513,\t3.7379,\t3.8961,\t3.9447,\t3.9401,\t3.8316,\t3.7643,\t4.1379,\t4.1638,\t4.0035,\t4.2234,\t4.0301]\n",
    "\n",
    "}\n",
    "\n",
    "ano_anterior = ''\n",
    "for arquivo in arquivos_para_abrir:\n",
    "    \n",
    "    mes_lido = pd.read_csv(\"dados/{}\".format(arquivo),sep=\";\")\n",
    "    icms_mes = (float(mes_lido[mes_lido['TIPO_RECEITA']==\"ICMS\"][\"VALR_TOTAL\"][0].replace(',','')))\n",
    "    codigo_arquivo = str(mes_lido[\"ANO_MES\"][0])\n",
    "    mes = (\"{}{}\".format(codigo_arquivo[len(codigo_arquivo)-2],codigo_arquivo[len(codigo_arquivo)-1]))\n",
    "    ano = (\"{}{}{}{}\".format(codigo_arquivo[0],codigo_arquivo[1],codigo_arquivo[2],codigo_arquivo[3]))\n",
    "\n",
    "    if ano!=ano_anterior:\n",
    "        lista_icms[ano] = []\n",
    "        lista_meses[ano] = []\n",
    "    prob = 1\n",
    "    if ano =='2021':\n",
    "         prob= prob - (cotacao_dollar[ano][int(mes)-1]/100)\n",
    "        \n",
    "    lista_icms[ano].insert(len(lista_icms[ano]),(icms_mes/prob ))\n",
    "    lista_meses[ano].insert(len(lista_meses[ano]),int(mes))\n",
    "    ano_anterior = ano\n",
    "\n",
    "\n",
    "df = pd.DataFrame()\n",
    "for key in lista_icms:\n",
    "    df  = pd.concat([df, pd.DataFrame(data=lista_icms[key],index=lista_meses[key],columns=[key])],axis=1)\n",
    "\n",
    "df"
   ]
  },
  {
   "cell_type": "code",
   "execution_count": 328,
   "metadata": {},
   "outputs": [
    {
     "data": {
      "text/plain": [
       "Text(0.5, 1.0, 'Arrecadação de ICMS do Governo de Goiás desde 2018')"
      ]
     },
     "execution_count": 328,
     "metadata": {},
     "output_type": "execute_result"
    },
    {
     "data": {
      "image/png": "[encoded data removed]",
      "text/plain": [
       "<Figure size 1080x576 with 1 Axes>"
      ]
     },
     "metadata": {
      "needs_background": "light"
     },
     "output_type": "display_data"
    }
   ],
   "source": [
    "hist = df.plot.bar()\n",
    "hist.set_xlabel(\"Meses do Ano\")\n",
    "hist.set_ylabel(\"Arrecadação em bilhões de dólares\")\n",
    "hist.set_title(\"Arrecadação de ICMS do Governo de Goiás desde 2018\")"
   ]
  },
  {
   "cell_type": "code",
   "execution_count": 330,
   "metadata": {},
   "outputs": [
    {
     "data": {
      "text/plain": [
       "Text(0.5, 1.0, 'Arrecadação de ICMS do Governo de Goiás desde 2018')"
      ]
     },
     "execution_count": 330,
     "metadata": {},
     "output_type": "execute_result"
    },
    {
     "data": {
      "image/png": "[encoded data removed]",
      "text/plain": [
       "<Figure size 1080x576 with 1 Axes>"
      ]
     },
     "metadata": {
      "needs_background": "light"
     },
     "output_type": "display_data"
    }
   ],
   "source": [
    "box = df.plot.box()\n",
    "box.set_xlabel(\"Meses do Ano\")\n",
    "box.set_ylabel(\"Arrecadação em bilhões de dólares\")\n",
    "box.set_title(\"Arrecadação de ICMS do Governo de Goiás desde 2018\")"
   ]
  },
  {
   "cell_type": "code",
   "execution_count": 309,
   "id": "bc366957",
   "metadata": {},
   "outputs": [],
   "source": [
    "for key in lista_icms:\n",
    "    Q1 = df[key].quantile(.25)\n",
    "    Q3 = df[key].quantile(.75)\n",
    "\n",
    "    IIQ = Q3-Q1\n",
    "\n",
    "    limite_inferior = Q1 - 1.5*IIQ\n",
    "    limite_superior = Q3 + 1.5*IIQ\n",
    "\n"
   ]
  },
  {
   "cell_type": "code",
   "execution_count": 310,
   "metadata": {},
   "outputs": [
    {
     "name": "stdout",
     "output_type": "stream",
     "text": [
      "1     True\n",
      "2    False\n",
      "3    False\n",
      "4    False\n",
      "5    False\n",
      "6    False\n",
      "7    False\n",
      "8     True\n",
      "9     True\n",
      "Name: 2020, dtype: bool\n",
      "1    True\n",
      "2    True\n",
      "3    True\n",
      "4    True\n",
      "5    True\n",
      "6    True\n",
      "7    True\n",
      "8    True\n",
      "9    True\n",
      "Name: 2021, dtype: bool\n"
     ]
    }
   ],
   "source": [
    "\n",
    "for key in lista_icms:\n",
    "    selecao = (df[key]>=limite_inferior)&(df[key]<=limite_superior)\n",
    "    print(selecao)"
   ]
  },
  {
   "cell_type": "code",
   "execution_count": null,
   "metadata": {},
   "outputs": [],
   "source": []
  }
 ],
 "metadata": {
  "interpreter": {
   "hash": "b3ba2566441a7c06988d0923437866b63cedc61552a5af99d1f4fb67d367b25f"
  },
  "kernelspec": {
   "display_name": "Python 3.8.8 64-bit ('base': conda)",
   "name": "python3"
  },
  "language_info": {
   "codemirror_mode": {
    "name": "ipython",
    "version": 3
   },
   "file_extension": ".py",
   "mimetype": "text/x-python",
   "name": "python",
   "nbconvert_exporter": "python",
   "pygments_lexer": "ipython3",
   "version": "3.8.8"
  }
 },
 "nbformat": 4,
 "nbformat_minor": 5
}
